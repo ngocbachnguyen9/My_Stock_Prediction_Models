{
  "cells": [
    {
      "cell_type": "markdown",
      "source": [
        "- Keras needs backend framework for ML. Default is TensorFlow"
      ],
      "metadata": {
        "id": "8beA7U01bQkq"
      }
    },
    {
      "cell_type": "code",
      "execution_count": 1,
      "metadata": {
        "id": "Od6HMG0fqIma"
      },
      "outputs": [],
      "source": [
        "import datetime as dt\n",
        "import pandas as pd\n",
        "from pandas_datareader import data as pdr #To retrieve data from REST API using API Key and format as pandas dataframe, I used AlphaVantage API this time"
      ]
    },
    {
      "cell_type": "code",
      "execution_count": 3,
      "metadata": {
        "id": "IZ1KGQomqIme",
        "outputId": "c554e3fc-d7bd-4345-b2d5-dae281de3426",
        "colab": {
          "base_uri": "https://localhost:8080/",
          "height": 206
        }
      },
      "outputs": [
        {
          "output_type": "execute_result",
          "data": {
            "text/plain": [
              "            close\n",
              "2018-04-02  88.52\n",
              "2018-04-03  89.71\n",
              "2018-04-04  92.33\n",
              "2018-04-05  92.38\n",
              "2018-04-06  90.23"
            ],
            "text/html": [
              "\n",
              "  <div id=\"df-82672a4a-e925-40ec-b8fe-7d577d347e85\">\n",
              "    <div class=\"colab-df-container\">\n",
              "      <div>\n",
              "<style scoped>\n",
              "    .dataframe tbody tr th:only-of-type {\n",
              "        vertical-align: middle;\n",
              "    }\n",
              "\n",
              "    .dataframe tbody tr th {\n",
              "        vertical-align: top;\n",
              "    }\n",
              "\n",
              "    .dataframe thead th {\n",
              "        text-align: right;\n",
              "    }\n",
              "</style>\n",
              "<table border=\"1\" class=\"dataframe\">\n",
              "  <thead>\n",
              "    <tr style=\"text-align: right;\">\n",
              "      <th></th>\n",
              "      <th>close</th>\n",
              "    </tr>\n",
              "  </thead>\n",
              "  <tbody>\n",
              "    <tr>\n",
              "      <th>2018-04-02</th>\n",
              "      <td>88.52</td>\n",
              "    </tr>\n",
              "    <tr>\n",
              "      <th>2018-04-03</th>\n",
              "      <td>89.71</td>\n",
              "    </tr>\n",
              "    <tr>\n",
              "      <th>2018-04-04</th>\n",
              "      <td>92.33</td>\n",
              "    </tr>\n",
              "    <tr>\n",
              "      <th>2018-04-05</th>\n",
              "      <td>92.38</td>\n",
              "    </tr>\n",
              "    <tr>\n",
              "      <th>2018-04-06</th>\n",
              "      <td>90.23</td>\n",
              "    </tr>\n",
              "  </tbody>\n",
              "</table>\n",
              "</div>\n",
              "      <button class=\"colab-df-convert\" onclick=\"convertToInteractive('df-82672a4a-e925-40ec-b8fe-7d577d347e85')\"\n",
              "              title=\"Convert this dataframe to an interactive table.\"\n",
              "              style=\"display:none;\">\n",
              "        \n",
              "  <svg xmlns=\"http://www.w3.org/2000/svg\" height=\"24px\"viewBox=\"0 0 24 24\"\n",
              "       width=\"24px\">\n",
              "    <path d=\"M0 0h24v24H0V0z\" fill=\"none\"/>\n",
              "    <path d=\"M18.56 5.44l.94 2.06.94-2.06 2.06-.94-2.06-.94-.94-2.06-.94 2.06-2.06.94zm-11 1L8.5 8.5l.94-2.06 2.06-.94-2.06-.94L8.5 2.5l-.94 2.06-2.06.94zm10 10l.94 2.06.94-2.06 2.06-.94-2.06-.94-.94-2.06-.94 2.06-2.06.94z\"/><path d=\"M17.41 7.96l-1.37-1.37c-.4-.4-.92-.59-1.43-.59-.52 0-1.04.2-1.43.59L10.3 9.45l-7.72 7.72c-.78.78-.78 2.05 0 2.83L4 21.41c.39.39.9.59 1.41.59.51 0 1.02-.2 1.41-.59l7.78-7.78 2.81-2.81c.8-.78.8-2.07 0-2.86zM5.41 20L4 18.59l7.72-7.72 1.47 1.35L5.41 20z\"/>\n",
              "  </svg>\n",
              "      </button>\n",
              "      \n",
              "  <style>\n",
              "    .colab-df-container {\n",
              "      display:flex;\n",
              "      flex-wrap:wrap;\n",
              "      gap: 12px;\n",
              "    }\n",
              "\n",
              "    .colab-df-convert {\n",
              "      background-color: #E8F0FE;\n",
              "      border: none;\n",
              "      border-radius: 50%;\n",
              "      cursor: pointer;\n",
              "      display: none;\n",
              "      fill: #1967D2;\n",
              "      height: 32px;\n",
              "      padding: 0 0 0 0;\n",
              "      width: 32px;\n",
              "    }\n",
              "\n",
              "    .colab-df-convert:hover {\n",
              "      background-color: #E2EBFA;\n",
              "      box-shadow: 0px 1px 2px rgba(60, 64, 67, 0.3), 0px 1px 3px 1px rgba(60, 64, 67, 0.15);\n",
              "      fill: #174EA6;\n",
              "    }\n",
              "\n",
              "    [theme=dark] .colab-df-convert {\n",
              "      background-color: #3B4455;\n",
              "      fill: #D2E3FC;\n",
              "    }\n",
              "\n",
              "    [theme=dark] .colab-df-convert:hover {\n",
              "      background-color: #434B5C;\n",
              "      box-shadow: 0px 1px 3px 1px rgba(0, 0, 0, 0.15);\n",
              "      filter: drop-shadow(0px 1px 2px rgba(0, 0, 0, 0.3));\n",
              "      fill: #FFFFFF;\n",
              "    }\n",
              "  </style>\n",
              "\n",
              "      <script>\n",
              "        const buttonEl =\n",
              "          document.querySelector('#df-82672a4a-e925-40ec-b8fe-7d577d347e85 button.colab-df-convert');\n",
              "        buttonEl.style.display =\n",
              "          google.colab.kernel.accessAllowed ? 'block' : 'none';\n",
              "\n",
              "        async function convertToInteractive(key) {\n",
              "          const element = document.querySelector('#df-82672a4a-e925-40ec-b8fe-7d577d347e85');\n",
              "          const dataTable =\n",
              "            await google.colab.kernel.invokeFunction('convertToInteractive',\n",
              "                                                     [key], {});\n",
              "          if (!dataTable) return;\n",
              "\n",
              "          const docLinkHtml = 'Like what you see? Visit the ' +\n",
              "            '<a target=\"_blank\" href=https://colab.research.google.com/notebooks/data_table.ipynb>data table notebook</a>'\n",
              "            + ' to learn more about interactive tables.';\n",
              "          element.innerHTML = '';\n",
              "          dataTable['output_type'] = 'display_data';\n",
              "          await google.colab.output.renderOutput(dataTable, element);\n",
              "          const docLink = document.createElement('div');\n",
              "          docLink.innerHTML = docLinkHtml;\n",
              "          element.appendChild(docLink);\n",
              "        }\n",
              "      </script>\n",
              "    </div>\n",
              "  </div>\n",
              "  "
            ]
          },
          "metadata": {},
          "execution_count": 3
        }
      ],
      "source": [
        "endDate = dt.datetime.now()\n",
        "startDate = dt.datetime(2018,3,30)\n",
        "startDate, endDate\n",
        "\n",
        "stock = ['MSFT']\n",
        "\n",
        "df = pdr.DataReader(stock, \"av-daily-adjusted\", startDate, endDate, api_key = 'API_KEY') #Reading daily adjusted stock data from RESTful API\n",
        "\n",
        "#Create a new df from only close since that's the only col necessary for LSTM. Date col is used as index so doesn't need to be accounted for\n",
        "\n",
        "data = df[['close']].copy() \n",
        "data.head()"
      ]
    },
    {
      "cell_type": "code",
      "execution_count": 4,
      "metadata": {
        "id": "o0B_1Jk4qImf"
      },
      "outputs": [],
      "source": [
        "import matplotlib.pyplot as plt\n",
        "import numpy as np\n",
        "%matplotlib inline"
      ]
    },
    {
      "cell_type": "code",
      "execution_count": 5,
      "metadata": {
        "id": "6dWk_CiwqImh",
        "outputId": "940f5ccd-6590-46e2-d1f9-77ec9f7da53e",
        "colab": {
          "base_uri": "https://localhost:8080/",
          "height": 505
        }
      },
      "outputs": [
        {
          "output_type": "execute_result",
          "data": {
            "text/plain": [
              "[Text(0.5, 0, 'Timesteps in Days'), Text(0, 0.5, 'Price (USD)')]"
            ]
          },
          "metadata": {},
          "execution_count": 5
        },
        {
          "output_type": "display_data",
          "data": {
            "text/plain": [
              "<Figure size 1200x500 with 1 Axes>"
            ],
            "image/png": "[encoded data removed]"
          },
          "metadata": {}
        }
      ],
      "source": [
        "title = 'MSFT Closing Price'\n",
        "ylabel='Price (USD)'\n",
        "xlabel='Timesteps in Days' \n",
        "\n",
        "ax = data.plot(figsize=(12,5),title=title)\n",
        "ax.autoscale(axis='x',tight=True)\n",
        "ax.set(xlabel=xlabel, ylabel=ylabel)"
      ]
    },
    {
      "cell_type": "code",
      "execution_count": 6,
      "metadata": {
        "id": "LznQUANzqImj"
      },
      "outputs": [],
      "source": [
        "#scikit library allows access to multiple different data science processing tool\n",
        "from sklearn.preprocessing import MinMaxScaler "
      ]
    },
    {
      "cell_type": "code",
      "execution_count": 7,
      "metadata": {
        "id": "aW2v5l83qIml",
        "outputId": "f7fd2a0a-2b6f-4ed4-ef42-7bd9855a25da",
        "colab": {
          "base_uri": "https://localhost:8080/"
        }
      },
      "outputs": [
        {
          "output_type": "stream",
          "name": "stdout",
          "text": [
            "[[0.        ]\n",
            " [0.00467418]\n",
            " [0.01496524]\n",
            " ...\n",
            " [0.7378923 ]\n",
            " [0.73337523]\n",
            " [0.75411446]]\n"
          ]
        }
      ],
      "source": [
        "#Normalize (between 0 - 1) the data to eliminate large difference between price @ close over a long period of time, as I'm not interested in individual price like linear regression. Focus on the trend over time\n",
        "scaler = MinMaxScaler() \n",
        "scaled_data = scaler.fit_transform(data) \n",
        "print(scaled_data)"
      ]
    },
    {
      "cell_type": "code",
      "execution_count": 8,
      "metadata": {
        "id": "sJ_WrJAIqImn"
      },
      "outputs": [],
      "source": [
        "train_data, valid_data, test_data = np.split(scaled_data,[int(.6*len(data)), int(.8*len(data))]) #60, 20, 20 split for train, valid, and test"
      ]
    },
    {
      "cell_type": "code",
      "source": [
        "print(len(train_data))\n",
        "print(train_data[:10])"
      ],
      "metadata": {
        "colab": {
          "base_uri": "https://localhost:8080/"
        },
        "id": "SeyrHs6-AJEi",
        "outputId": "0b17c026-14a4-4f7a-b83b-21feb3da5f2a"
      },
      "execution_count": 9,
      "outputs": [
        {
          "output_type": "stream",
          "name": "stdout",
          "text": [
            "754\n",
            "[[0.        ]\n",
            " [0.00467418]\n",
            " [0.01496524]\n",
            " [0.01516163]\n",
            " [0.00671668]\n",
            " [0.00883774]\n",
            " [0.01712557]\n",
            " [0.01311913]\n",
            " [0.01987509]\n",
            " [0.01791115]]\n"
          ]
        }
      ]
    },
    {
      "cell_type": "code",
      "source": [
        "print(len(valid_data))\n",
        "print(valid_data.shape)\n",
        "print(valid_data[:10])"
      ],
      "metadata": {
        "colab": {
          "base_uri": "https://localhost:8080/"
        },
        "id": "ptANvYciB0ai",
        "outputId": "7d2932ee-47e4-4288-e264-89546253bf49"
      },
      "execution_count": 10,
      "outputs": [
        {
          "output_type": "stream",
          "name": "stdout",
          "text": [
            "252\n",
            "(252, 1)\n",
            "[[0.56298362]\n",
            " [0.57838093]\n",
            " [0.6042264 ]\n",
            " [0.63062178]\n",
            " [0.62586904]\n",
            " [0.63388193]\n",
            " [0.64704034]\n",
            " [0.65725284]\n",
            " [0.65748851]\n",
            " [0.66762245]]\n"
          ]
        }
      ]
    },
    {
      "cell_type": "code",
      "source": [
        "print(len(test_data))\n",
        "print(test_data[:10])"
      ],
      "metadata": {
        "colab": {
          "base_uri": "https://localhost:8080/"
        },
        "id": "dIO176ToB3ZH",
        "outputId": "97ac36fb-e4fa-49cd-fd2f-45b03c1ce0c2"
      },
      "execution_count": 11,
      "outputs": [
        {
          "output_type": "stream",
          "name": "stdout",
          "text": [
            "252\n",
            "[[0.89119761]\n",
            " [0.88510939]\n",
            " [0.86330964]\n",
            " [0.86766959]\n",
            " [0.88946934]\n",
            " [0.8734043 ]\n",
            " [0.82870498]\n",
            " [0.83605012]\n",
            " [0.81876743]\n",
            " [0.77277191]]\n"
          ]
        }
      ]
    },
    {
      "cell_type": "code",
      "execution_count": 12,
      "metadata": {
        "id": "mAnQgRToqImp"
      },
      "outputs": [],
      "source": [
        "def create_dataset(dataset, timestep=1): #timestep is how much data is being read as once, 1 is reading each value; meaning daily\n",
        "    data_x, data_y = [], [] #x for input, y for output\n",
        "    for i in range(len(dataset) - timestep - 1): #input close price, output close price of next day\n",
        "        data_x.append(dataset[i:(i+timestep),0]) #0 for first member, i:i+1 means i to i+1; gets one member at a time, current closing price\n",
        "        data_y.append(dataset[i+timestep,0]) #next day's closing price\n",
        "    return np.array(data_x), np.array(data_y)"
      ]
    },
    {
      "cell_type": "code",
      "execution_count": 13,
      "metadata": {
        "id": "wzYtSMiZqImr"
      },
      "outputs": [],
      "source": [
        "timestep = 1 #range of data\n",
        "train_x, train_y = create_dataset(train_data, timestep)\n",
        "test_x, test_y = create_dataset(test_data, timestep)\n",
        "valid_x, valid_y = create_dataset(valid_data, timestep)"
      ]
    },
    {
      "cell_type": "code",
      "execution_count": 14,
      "metadata": {
        "id": "MT2ZLlwGqImt",
        "outputId": "d2e2b36d-c392-44ec-e39c-464b9ea1a0bb",
        "colab": {
          "base_uri": "https://localhost:8080/"
        }
      },
      "outputs": [
        {
          "output_type": "stream",
          "name": "stdout",
          "text": [
            "(752, 1)\n"
          ]
        }
      ],
      "source": [
        "print(train_x.shape)"
      ]
    },
    {
      "cell_type": "code",
      "source": [
        "print(valid_x.shape)"
      ],
      "metadata": {
        "colab": {
          "base_uri": "https://localhost:8080/"
        },
        "id": "ucjuwdT8_NrE",
        "outputId": "cccd6757-d253-40fe-9bef-20c9fc9b5115"
      },
      "execution_count": 15,
      "outputs": [
        {
          "output_type": "stream",
          "name": "stdout",
          "text": [
            "(250, 1)\n"
          ]
        }
      ]
    },
    {
      "cell_type": "code",
      "source": [
        "print(test_x.shape)"
      ],
      "metadata": {
        "colab": {
          "base_uri": "https://localhost:8080/"
        },
        "id": "VJSoxYQ06BpX",
        "outputId": "4dfd80d4-a788-48fa-af9f-96dcc73a683e"
      },
      "execution_count": 16,
      "outputs": [
        {
          "output_type": "stream",
          "name": "stdout",
          "text": [
            "(250, 1)\n"
          ]
        }
      ]
    },
    {
      "cell_type": "code",
      "execution_count": 17,
      "metadata": {
        "id": "Du0zWLdiqImv",
        "outputId": "f39d513d-de28-4ba8-8e7d-ce42095b816e",
        "colab": {
          "base_uri": "https://localhost:8080/"
        }
      },
      "outputs": [
        {
          "output_type": "stream",
          "name": "stdout",
          "text": [
            "[[[0.        ]]\n",
            "\n",
            " [[0.00467418]]\n",
            "\n",
            " [[0.01496524]]\n",
            "\n",
            " [[0.01516163]]\n",
            "\n",
            " [[0.00671668]]\n",
            "\n",
            " [[0.00883774]]\n",
            "\n",
            " [[0.01712557]]\n",
            "\n",
            " [[0.01311913]]\n",
            "\n",
            " [[0.01987509]]\n",
            "\n",
            " [[0.01791115]]]\n"
          ]
        }
      ],
      "source": [
        "train_x = np.reshape(train_x, (train_x.shape[0], 1, train_x.shape[1])) #shape: whatever the shape of training input, by 1 then by 1 again, creates another level of array, so each item in individual array within the matrix now becomes their own array\n",
        "test_x = np.reshape(test_x, (test_x.shape[0], 1, test_x.shape[1]))\n",
        "#makes it easier to train LSTM using this data format\n",
        "print(train_x[:10])"
      ]
    },
    {
      "cell_type": "code",
      "execution_count": 18,
      "metadata": {
        "id": "SSw8VUlZqImv"
      },
      "outputs": [],
      "source": [
        "#Keras is high level API used to build neural network for ml models, specialises towards deep neural networks, contains more abstract classes than tf hence easier to use\n",
        "from keras.models import Sequential\n",
        "from keras.layers import LSTM, Dense"
      ]
    },
    {
      "cell_type": "code",
      "source": [
        "from keras.layers import Input, Dense, LSTM, TimeDistributed, Attention"
      ],
      "metadata": {
        "id": "5WmLj2gm7cUL"
      },
      "execution_count": 19,
      "outputs": []
    },
    {
      "cell_type": "code",
      "execution_count": 20,
      "metadata": {
        "id": "26PPlZlLqImw",
        "outputId": "a8dfdcfb-bcfb-493b-f775-518423b56374",
        "colab": {
          "base_uri": "https://localhost:8080/"
        }
      },
      "outputs": [
        {
          "output_type": "stream",
          "name": "stdout",
          "text": [
            "Model: \"sequential\"\n",
            "_________________________________________________________________\n",
            " Layer (type)                Output Shape              Param #   \n",
            "=================================================================\n",
            " lstm (LSTM)                 (None, 256)               264192    \n",
            "                                                                 \n",
            " dense (Dense)               (None, 1)                 257       \n",
            "                                                                 \n",
            "=================================================================\n",
            "Total params: 264,449\n",
            "Trainable params: 264,449\n",
            "Non-trainable params: 0\n",
            "_________________________________________________________________\n",
            "None\n"
          ]
        }
      ],
      "source": [
        "model = Sequential() #Sequential ML model\n",
        "model.add(LSTM(256, input_shape=(1,1))) \n",
        "#256 LSTM nodes/cells given pretty good results through trial and error, input is array of 1 by 1 hence why I reshaped train_x and test_x to an array within an array within a matrix\n",
        "#adding thing sequentially\n",
        "model.add(Dense(1, activation='linear')) #takes 1 output (close price) so only need one node, and activation is sigmoid function to end on\n",
        "#tanh for input layer, sigmoid for output layer is superior  \n",
        "model.compile(loss='mean_squared_error', optimizer='adam', metrics=['MeanSquaredError']) #mean squared error for loss function, adam optimizer, accuracy for model metrics\n",
        "#change metrics from accuracy to correlation or absolute mean squared, for actual valuable analysis of data\n",
        "print(model.summary())"
      ]
    },
    {
      "cell_type": "code",
      "execution_count": 22,
      "metadata": {
        "id": "NaxJKTMhqImx",
        "outputId": "12f953d2-b8a7-45a1-9f57-b2c6abe9f2f3",
        "colab": {
          "base_uri": "https://localhost:8080/"
        }
      },
      "outputs": [
        {
          "output_type": "stream",
          "name": "stdout",
          "text": [
            "Epoch 1/5\n",
            "752/752 [==============================] - 5s 6ms/step - loss: 2.3013e-04 - mean_squared_error: 2.3013e-04 - val_loss: 0.0028 - val_mean_squared_error: 0.0028\n",
            "Epoch 2/5\n",
            "752/752 [==============================] - 3s 4ms/step - loss: 2.3238e-04 - mean_squared_error: 2.3238e-04 - val_loss: 3.2351e-04 - val_mean_squared_error: 3.2351e-04\n",
            "Epoch 3/5\n",
            "752/752 [==============================] - 4s 5ms/step - loss: 2.4158e-04 - mean_squared_error: 2.4158e-04 - val_loss: 3.2436e-04 - val_mean_squared_error: 3.2436e-04\n",
            "Epoch 4/5\n",
            "752/752 [==============================] - 4s 5ms/step - loss: 2.2722e-04 - mean_squared_error: 2.2722e-04 - val_loss: 3.7848e-04 - val_mean_squared_error: 3.7848e-04\n",
            "Epoch 5/5\n",
            "752/752 [==============================] - 3s 4ms/step - loss: 2.0372e-04 - mean_squared_error: 2.0372e-04 - val_loss: 2.9294e-04 - val_mean_squared_error: 2.9294e-04\n",
            "Keras model loss on train test =  0.0001688283373368904\n",
            "Keras model Mean Squared Error on train test =  0.0001688283373368904\n",
            "Keras model loss on test set =  0.000500936119351536\n",
            "Keras model Mean Squared Error on test set =  0.000500936119351536\n"
          ]
        }
      ],
      "source": [
        "model.fit(train_x, train_y, epochs=5, batch_size=1, verbose=1, validation_data=(valid_x, valid_y)) \n",
        "#fit function to train, epoch = 1 since it's LSTM sequential/RNN since it cycles through on its own, batch_size = 1 will pass in all data to train at once, verbose = 1 will print out actual value\n",
        "score = model.evaluate(train_x, train_y, verbose=0) #verbose = 0 for extra info\n",
        "print('Keras model loss on train test = ', score[0]) \n",
        "print('Keras model Mean Squared Error on train test = ', score[1]) \n",
        "\n",
        "score = model.evaluate(test_x, test_y, verbose=0) #verbose = 0 for extra info\n",
        "print('Keras model loss on test set = ', score[0])\n",
        "print('Keras model Mean Squared Error on test set = ', score[1])"
      ]
    },
    {
      "cell_type": "code",
      "execution_count": 23,
      "metadata": {
        "id": "aPfL97JRqImy",
        "outputId": "eb396c73-d31e-4eaf-efef-69adc10cdc94",
        "colab": {
          "base_uri": "https://localhost:8080/"
        }
      },
      "outputs": [
        {
          "output_type": "stream",
          "name": "stdout",
          "text": [
            "24/24 [==============================] - 1s 2ms/step\n",
            "8/8 [==============================] - 0s 3ms/step\n"
          ]
        }
      ],
      "source": [
        "train_predictions = model.predict(train_x) #convert result to readable data\n",
        "test_predictions = model.predict(test_x)"
      ]
    },
    {
      "cell_type": "code",
      "execution_count": 24,
      "metadata": {
        "id": "Os9KX-DkqImy"
      },
      "outputs": [],
      "source": [
        "train_predictions = scaler.inverse_transform(train_predictions) #scale input back to actual close values\n",
        "train_y = scaler.inverse_transform([train_y]) #scale output back to actual close values\n",
        "\n",
        "test_predictions = scaler.inverse_transform(test_predictions)\n",
        "test_y = scaler.inverse_transform([test_y])"
      ]
    },
    {
      "cell_type": "code",
      "source": [
        "print(train_y.shape)\n",
        "print(test_y.shape)\n",
        "print(train_predictions.shape)\n",
        "print(test_predictions.shape)"
      ],
      "metadata": {
        "colab": {
          "base_uri": "https://localhost:8080/"
        },
        "id": "883LVFs3kneN",
        "outputId": "5a33b5b1-e9cd-4e8d-fd5d-0ceca55ca623"
      },
      "execution_count": 25,
      "outputs": [
        {
          "output_type": "stream",
          "name": "stdout",
          "text": [
            "(1, 752)\n",
            "(1, 250)\n",
            "(752, 1)\n",
            "(250, 1)\n"
          ]
        }
      ]
    },
    {
      "cell_type": "code",
      "source": [
        "print(valid_data.shape)"
      ],
      "metadata": {
        "colab": {
          "base_uri": "https://localhost:8080/"
        },
        "id": "JNLXsLX5lAhX",
        "outputId": "7a1233cd-0ed9-4ebe-8da9-6765bd1ac7c4"
      },
      "execution_count": 26,
      "outputs": [
        {
          "output_type": "stream",
          "name": "stdout",
          "text": [
            "(252, 1)\n"
          ]
        }
      ]
    },
    {
      "cell_type": "code",
      "source": [
        "valid_predictions = scaler.inverse_transform(valid_data)\n",
        "print(len(valid_predictions))\n",
        "print(valid_predictions[:6])"
      ],
      "metadata": {
        "colab": {
          "base_uri": "https://localhost:8080/"
        },
        "id": "gZmCTlgEuQFH",
        "outputId": "87a79303-494a-4acf-9c51-5cf8b5d7ff5e"
      },
      "execution_count": 27,
      "outputs": [
        {
          "output_type": "stream",
          "name": "stdout",
          "text": [
            "252\n",
            "[[231.85]\n",
            " [235.77]\n",
            " [242.35]\n",
            " [249.07]\n",
            " [247.86]\n",
            " [249.9 ]]\n"
          ]
        }
      ]
    },
    {
      "cell_type": "code",
      "source": [
        "print(len(scaled_data)-len(train_predictions))"
      ],
      "metadata": {
        "colab": {
          "base_uri": "https://localhost:8080/"
        },
        "id": "lYVlZTzlvZEp",
        "outputId": "105b8c11-10c9-46f5-c6cd-a327b56410b9"
      },
      "execution_count": 28,
      "outputs": [
        {
          "output_type": "stream",
          "name": "stdout",
          "text": [
            "506\n"
          ]
        }
      ]
    },
    {
      "cell_type": "code",
      "execution_count": 29,
      "metadata": {
        "id": "QoV6IbszqImz"
      },
      "outputs": [],
      "source": [
        "train_predict_plot = np.empty_like(scaled_data) #initialise an np array of empty values, pass in scaled data in the beginning as param\n",
        "train_predict_plot[:,:] = np.nan #convert all vals to NaN, so it doesn't skew results if there are fewer values than size of array and there are unwanted values.\n",
        "train_predict_plot[1:len(train_predictions)+1, :] = train_predictions #insert train predictions into plot"
      ]
    },
    {
      "cell_type": "code",
      "source": [
        "valid_predict_plot = np.empty_like(scaled_data) #initialise an np array of empty values, pass in scaled data in the beginning as param\n",
        "valid_predict_plot[:,:] = np.nan #convert all vals to NaN, so it doesn't skew results if there are fewer values than size of array and there are unwanted values.\n",
        "valid_predict_plot[(len(train_predictions)+2+1):len(train_predictions)+len(valid_predictions)+3, :] = valid_predictions #insert valid train predictions into plot"
      ],
      "metadata": {
        "id": "zxKXDDt_ures"
      },
      "execution_count": 30,
      "outputs": []
    },
    {
      "cell_type": "code",
      "execution_count": 31,
      "metadata": {
        "id": "ejL9zsVDqIm0"
      },
      "outputs": [],
      "source": [
        "test_predict_plot = np.empty_like(scaled_data) #same as predict plot\n",
        "test_predict_plot[:,:] = np.nan\n",
        "test_predict_plot[(len(train_predictions)+len(valid_predictions)+3):len(scaled_data)-1, :] = test_predictions \n",
        "#len(train_predictions)+2+1 to len(scaled_data)-1, so taking it from index where train ended and test start; 70:30 of entire length"
      ]
    },
    {
      "cell_type": "code",
      "execution_count": 32,
      "metadata": {
        "id": "BcV1asmbqIm1",
        "outputId": "459ecda8-0d3b-4c24-97da-974a955ec62d",
        "colab": {
          "base_uri": "https://localhost:8080/",
          "height": 474
        }
      },
      "outputs": [
        {
          "output_type": "display_data",
          "data": {
            "text/plain": [
              "<Figure size 640x480 with 1 Axes>"
            ],
            "image/png": "[encoded data removed]"
          },
          "metadata": {}
        }
      ],
      "source": [
        "plt.plot(scaler.inverse_transform(scaled_data), \"-b\", label=\"actual values\")\n",
        "plt.plot(train_predict_plot, \"-r\", label=\"training set\")\n",
        "plt.plot(test_predict_plot, \"-g\", label=\"testing set\")\n",
        "plt.plot(valid_predict_plot, label=\"valid set\")\n",
        "plt.legend(loc=\"upper left\")\n",
        "\n",
        "plt.title('Microsoft stock: Close Price', fontsize=15)\n",
        "plt.xlabel('No. of Steps/Days', fontsize=10)\n",
        "plt.ylabel('Stock price', fontsize=10)\n",
        "\n",
        "plt.show()"
      ]
    },
    {
      "cell_type": "markdown",
      "source": [
        "blue is scaled data, oranfe is train, green is predict. plots line by line of code."
      ],
      "metadata": {
        "id": "t_nYEI0i0nch"
      }
    }
  ],
  "metadata": {
    "kernelspec": {
      "display_name": "Python 3",
      "language": "python",
      "name": "python3"
    },
    "language_info": {
      "codemirror_mode": {
        "name": "ipython",
        "version": 3
      },
      "file_extension": ".py",
      "mimetype": "text/x-python",
      "name": "python",
      "nbconvert_exporter": "python",
      "pygments_lexer": "ipython3",
      "version": "3.6.8"
    },
    "colab": {
      "provenance": []
    }
  },
  "nbformat": 4,
  "nbformat_minor": 0
}